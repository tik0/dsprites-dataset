{
 "cells": [
  {
   "cell_type": "markdown",
   "metadata": {
    "colab_type": "text",
    "id": "26ScWNvYSgQg"
   },
   "source": [
    "Copyright 2017 Google Inc.\n",
    "\n",
    "Licensed under the Apache License, Version 2.0 (the \"License\");\n",
    "you may not use this file except in compliance with the License.\n",
    "You may obtain a copy of the License at\n",
    "\n",
    "    http://www.apache.org/licenses/LICENSE-2.0\n",
    "\n",
    "Unless required by applicable law or agreed to in writing, software\n",
    "distributed under the License is distributed on an \"AS IS\" BASIS,\n",
    "WITHOUT WARRANTIES OR CONDITIONS OF ANY KIND, either express or implied.\n",
    "See the License for the specific language governing permissions and\n",
    "limitations under the License.\n",
    "\n",
    "\n",
    "# dSprites - Disentanglement testing Sprites dataset\n",
    "\n",
    "## Description\n",
    "Procedurally generated 2D shapes dataset. This dataset uses 6 latents, controlling the color, shape, scale, rotation and position of a sprite (color isn't varying here, its value is fixed).\n",
    "\n",
    "All possible combinations of the latents are present.\n",
    "\n",
    "The ordering of images in the dataset (i.e. shape[0] in all ndarrays) is fixed and meaningful, see below.\n",
    "\n",
    "We chose the smallest changes in latent values that generated different pixel outputs at our 64x64 resolution after rasterization.\n",
    "\n",
    "No noise added, single image sample for a given latent setting.\n",
    "\n",
    "## Details about the ordering of the dataset\n",
    "\n",
    "The dataset was generated procedurally, and its order is deterministic.\n",
    "For example, the image at index 0 corresponds to the latents (0, 0, 0, 0, 0, 0).\n",
    "\n",
    "Then the image at index 1 increases the least significant \"bit\" of the latent:\n",
    "(0, 0, 0, 0, 0, 1)\n",
    "\n",
    "And similarly, till we reach index 32, where we get (0, 0, 0, 0, 1, 0). \n",
    "\n",
    "Hence the dataset is sequentially addressable using variable bases for every \"bit\".\n",
    "Using dataset['metadata']['latents_sizes'] makes this conversion trivial, see below."
   ]
  },
  {
   "cell_type": "code",
   "execution_count": 1,
   "metadata": {
    "cellView": "both",
    "colab": {
     "autoexec": {
      "startup": false,
      "wait_interval": 0
     }
    },
    "colab_type": "code",
    "id": "jJ02BsnqSa96"
   },
   "outputs": [],
   "source": [
    "from __future__ import absolute_import\n",
    "from __future__ import division\n",
    "from __future__ import print_function\n",
    "# from https://matplotlib.org/3.1.1/tutorials/text/usetex.html\n",
    "import matplotlib\n",
    "from matplotlib import rc\n",
    "rc('font',**{'family':'serif','serif':['Computer Modern Roman']})\n",
    "rc('text', usetex=True)\n",
    "\n",
    "from matplotlib import pyplot as plt\n",
    "import numpy as np\n",
    "import seaborn as sns\n",
    "\n",
    "# Change figure aesthetics\n",
    "%matplotlib inline\n",
    "sns.set_context('talk', font_scale=1.2, rc={'lines.linewidth': 1.5})\n"
   ]
  },
  {
   "cell_type": "code",
   "execution_count": 2,
   "metadata": {
    "colab": {
     "autoexec": {
      "startup": false,
      "wait_interval": 0
     },
     "output_extras": [
      {
       "item_id": 2
      }
     ]
    },
    "colab_type": "code",
    "executionInfo": {
     "elapsed": 10952,
     "status": "ok",
     "timestamp": 1495021223246,
     "user": {
      "displayName": "",
      "photoUrl": "",
      "userId": ""
     },
     "user_tz": -60
    },
    "id": "uDL3Iw0WFw1L",
    "outputId": "1a3ce845-1add-41c3-ee3d-6018d09423bc"
   },
   "outputs": [],
   "source": [
    "# Load dataset\n",
    "dataset_zip = np.load('dsprites_ndarray_co1sh3sc6or40x32y32_64x64.npz', mmap_mode='r', allow_pickle=True, encoding='bytes')\n"
   ]
  },
  {
   "cell_type": "code",
   "execution_count": 3,
   "metadata": {},
   "outputs": [
    {
     "name": "stdout",
     "output_type": "stream",
     "text": [
      "Keys in the dataset: ['metadata', 'imgs', 'latents_classes', 'latents_values']\n",
      "Metadata: \n",
      " {b'title': b'dSprites dataset', b'latents_names': (b'color', b'shape', b'scale', b'orientation', b'posX', b'posY'), b'date': b'April 2017', b'author': b'lmatthey@google.com', b'description': b'Disentanglement test Sprites dataset.Procedurally generated 2D shapes, from 6 disentangled latent factors.This dataset uses 6 latents, controlling the color, shape, scale, rotation and position of a sprite. All possible variations of the latents are present. Ordering along dimension 1 is fixed and can be mapped back to the exact latent values that generated that image.We made sure that the pixel outputs are different. No noise added.', b'latents_possible_values': {b'shape': array([1., 2., 3.]), b'orientation': array([0.        , 0.16110732, 0.32221463, 0.48332195, 0.64442926,\n",
      "       0.80553658, 0.96664389, 1.12775121, 1.28885852, 1.44996584,\n",
      "       1.61107316, 1.77218047, 1.93328779, 2.0943951 , 2.25550242,\n",
      "       2.41660973, 2.57771705, 2.73882436, 2.89993168, 3.061039  ,\n",
      "       3.22214631, 3.38325363, 3.54436094, 3.70546826, 3.86657557,\n",
      "       4.02768289, 4.1887902 , 4.34989752, 4.51100484, 4.67211215,\n",
      "       4.83321947, 4.99432678, 5.1554341 , 5.31654141, 5.47764873,\n",
      "       5.63875604, 5.79986336, 5.96097068, 6.12207799, 6.28318531]), b'color': array([1.]), b'posX': array([0.        , 0.03225806, 0.06451613, 0.09677419, 0.12903226,\n",
      "       0.16129032, 0.19354839, 0.22580645, 0.25806452, 0.29032258,\n",
      "       0.32258065, 0.35483871, 0.38709677, 0.41935484, 0.4516129 ,\n",
      "       0.48387097, 0.51612903, 0.5483871 , 0.58064516, 0.61290323,\n",
      "       0.64516129, 0.67741935, 0.70967742, 0.74193548, 0.77419355,\n",
      "       0.80645161, 0.83870968, 0.87096774, 0.90322581, 0.93548387,\n",
      "       0.96774194, 1.        ]), b'scale': array([0.5, 0.6, 0.7, 0.8, 0.9, 1. ]), b'posY': array([0.        , 0.03225806, 0.06451613, 0.09677419, 0.12903226,\n",
      "       0.16129032, 0.19354839, 0.22580645, 0.25806452, 0.29032258,\n",
      "       0.32258065, 0.35483871, 0.38709677, 0.41935484, 0.4516129 ,\n",
      "       0.48387097, 0.51612903, 0.5483871 , 0.58064516, 0.61290323,\n",
      "       0.64516129, 0.67741935, 0.70967742, 0.74193548, 0.77419355,\n",
      "       0.80645161, 0.83870968, 0.87096774, 0.90322581, 0.93548387,\n",
      "       0.96774194, 1.        ])}, b'latents_sizes': array([ 1,  3,  6, 40, 32, 32]), b'version': 1}\n"
     ]
    }
   ],
   "source": [
    "\n",
    "print('Keys in the dataset:', [k for k in dataset_zip.files])\n",
    "imgs = dataset_zip['imgs']\n",
    "latents_values = dataset_zip['latents_values']\n",
    "latents_classes = dataset_zip['latents_classes']\n",
    "metadata = dataset_zip['metadata'][()]\n",
    "\n",
    "print('Metadata: \\n', metadata)\n"
   ]
  },
  {
   "cell_type": "code",
   "execution_count": 4,
   "metadata": {
    "colab": {
     "autoexec": {
      "startup": false,
      "wait_interval": 0
     }
    },
    "colab_type": "code",
    "id": "9RWpIJtiHYUL"
   },
   "outputs": [],
   "source": [
    "# Define number of values per latents and functions to convert to indices\n",
    "latents_sizes = metadata[b'latents_sizes']\n",
    "latents_bases = np.concatenate((latents_sizes[::-1].cumprod()[::-1][1:],\n",
    "                                np.array([1,])))\n",
    "\n",
    "def latent_to_index(latents):\n",
    "  return np.dot(latents, latents_bases).astype(int)\n",
    "\n",
    "\n",
    "def sample_latent(size=1):\n",
    "  samples = np.zeros((size, latents_sizes.size))\n",
    "  for lat_i, lat_size in enumerate(latents_sizes):\n",
    "    samples[:, lat_i] = np.random.randint(lat_size, size=size)\n",
    "\n",
    "  return samples\n"
   ]
  },
  {
   "cell_type": "code",
   "execution_count": 5,
   "metadata": {
    "colab": {
     "autoexec": {
      "startup": false,
      "wait_interval": 0
     }
    },
    "colab_type": "code",
    "id": "W8LKpGjGKaiN"
   },
   "outputs": [],
   "source": [
    "# Helper function to show images\n",
    "def show_images_grid(imgs_, num_images=25):\n",
    "  ncols = int(np.ceil(num_images**0.5))\n",
    "  nrows = int(np.ceil(num_images / ncols))\n",
    "  _, axes = plt.subplots(ncols, nrows, figsize=(nrows * 3, ncols * 3))\n",
    "  axes = axes.flatten()\n",
    "\n",
    "  for ax_i, ax in enumerate(axes):\n",
    "    if ax_i < num_images:\n",
    "      ax.imshow(imgs_[ax_i], cmap='Greys_r',  interpolation='nearest')\n",
    "      ax.set_xticks([])\n",
    "      ax.set_yticks([])\n",
    "    else:\n",
    "      ax.axis('off')\n",
    "\n",
    "def show_density(imgs):\n",
    "  _, ax = plt.subplots()\n",
    "  ax.imshow(imgs.mean(axis=0), interpolation='nearest', cmap='Greys_r')\n",
    "  ax.grid(False)\n",
    "  ax.set_xticks([])\n",
    "  ax.set_yticks([])"
   ]
  },
  {
   "cell_type": "code",
   "execution_count": 6,
   "metadata": {},
   "outputs": [
    {
     "name": "stdout",
     "output_type": "stream",
     "text": [
      "latents possible values: \n",
      " [b'shape', b'orientation', b'color', b'posX', b'scale', b'posY']\n"
     ]
    },
    {
     "data": {
      "image/png": "[encoded data removed]",
      "text/plain": [
       "<Figure size 432x288 with 1 Axes>"
      ]
     },
     "metadata": {},
     "output_type": "display_data"
    }
   ],
   "source": [
    "\n",
    "# show latents\n",
    "print('latents possible values: \\n', list(metadata[b'latents_possible_values'].keys()))\n",
    "# Sample latents randomly\n",
    "#latents_sampled = sample_latent(size=1)\n",
    "\n",
    "def get_sample(color, shape, scale, orientation, posX, posY):\n",
    "    #posX = [0 .. 31]\n",
    "    #shape = [0 .. 2]\n",
    "    #posY = [0 .. 31]\n",
    "    #orientation = [0 .. 38]\n",
    "    #scale = [0 .. 5]\n",
    "    #color = 0\n",
    "    return [[color, shape, scale, orientation, posX, posY]]\n",
    "\n",
    "def get_image(color, shape, scale, orientation, posX, posY):\n",
    "    latents_sampled = get_sample(color, shape, scale, orientation, posX, posY)\n",
    "    img_sampled = imgs[latent_to_index(latents_sampled)][0]\n",
    "    return img_sampled\n",
    "\n",
    "latents_sampled = get_sample(0, 0, 0, 0, 0, 0)\n",
    "\n",
    "# Select images\n",
    "indices_sampled = latent_to_index(latents_sampled)\n",
    "imgs_sampled = imgs[indices_sampled]\n",
    "\n",
    "# Show images\n",
    "_, ax = plt.subplots()\n",
    "ax.imshow(imgs_sampled[0], interpolation='nearest', cmap='Greys_r')\n",
    "ax.grid(False)\n",
    "ax.set_xticks([])\n",
    "ax.set_yticks([])\n",
    "plt.show()"
   ]
  },
  {
   "cell_type": "code",
   "execution_count": 13,
   "metadata": {
    "scrolled": false
   },
   "outputs": [
    {
     "data": {
      "image/png": "[encoded data removed]",
      "text/plain": [
       "<Figure size 432x288 with 6 Axes>"
      ]
     },
     "metadata": {},
     "output_type": "display_data"
    },
    {
     "data": {
      "image/png": "[encoded data removed]",
      "text/plain": [
       "<Figure size 432x288 with 6 Axes>"
      ]
     },
     "metadata": {},
     "output_type": "display_data"
    },
    {
     "data": {
      "image/png": "[encoded data removed]",
      "text/plain": [
       "<Figure size 432x288 with 6 Axes>"
      ]
     },
     "metadata": {},
     "output_type": "display_data"
    },
    {
     "data": {
      "image/png": "[encoded data removed]",
      "text/plain": [
       "<Figure size 432x288 with 6 Axes>"
      ]
     },
     "metadata": {},
     "output_type": "display_data"
    },
    {
     "data": {
      "image/png": "[encoded data removed]",
      "text/plain": [
       "<Figure size 432x288 with 6 Axes>"
      ]
     },
     "metadata": {},
     "output_type": "display_data"
    },
    {
     "data": {
      "image/png": "[encoded data removed]",
      "text/plain": [
       "<Figure size 432x288 with 6 Axes>"
      ]
     },
     "metadata": {},
     "output_type": "display_data"
    }
   ],
   "source": [
    "def plot_img_list_13(img_list, title):\n",
    "    # Show images\n",
    "    _, axs = plt.subplots(1,3)\n",
    "    for img, ax in zip(img_list, axs):\n",
    "        ax.imshow(img, interpolation='nearest', cmap='Greys_r')\n",
    "        ax.grid(False)\n",
    "        ax.set_xticks([])\n",
    "        ax.set_yticks([])\n",
    "    axs[1].set_title(title)\n",
    "    plt.show()\n",
    "    \n",
    "def plot_img_list_23(img_list, title, x = \"\", y = \"\"):\n",
    "    # Show images\n",
    "    _, axs = plt.subplots(2,3)\n",
    "    for img, ax in zip(img_list, axs.flatten()):\n",
    "        ax.imshow(img, interpolation='nearest', cmap='Greys_r')\n",
    "        ax.grid(False)\n",
    "        ax.set_xticks([])\n",
    "        ax.set_yticks([])\n",
    "    axs[0][1].set_title(title)\n",
    "    axs[0][0].set_ylabel(x)\n",
    "    axs[1][0].set_ylabel(y)\n",
    "    plt.show()\n",
    "\n",
    "img_list = []\n",
    "img_list.append(get_image(color=0, shape=2, scale=5, orientation=0, posX=0, posY=16))\n",
    "img_list.append(get_image(color=0, shape=2, scale=5, orientation=0, posX=16, posY=16))\n",
    "img_list.append(get_image(color=0, shape=2, scale=5, orientation=0, posX=31, posY=16))\n",
    "img_list.append(get_image(color=0, shape=2, scale=5, orientation=0, posX=0, posY=16))\n",
    "img_list.append(get_image(color=0, shape=2, scale=5, orientation=10, posX=0, posY=16))\n",
    "img_list.append(get_image(color=0, shape=2, scale=5, orientation=19, posX=0, posY=16))\n",
    "plot_img_list_23(img_list, 'no correlation', 'x', 'x')\n",
    "\n",
    "img_list = []\n",
    "img_list.append(get_image(color=0, shape=2, scale=5, orientation=0, posX=0, posY=16))\n",
    "img_list.append(get_image(color=0, shape=2, scale=5, orientation=10, posX=16, posY=16))\n",
    "img_list.append(get_image(color=0, shape=2, scale=5, orientation=19, posX=31, posY=16))\n",
    "img_list.append(get_image(color=0, shape=2, scale=0, orientation=0, posX=16, posY=0))\n",
    "img_list.append(get_image(color=0, shape=2, scale=3, orientation=0, posX=16, posY=16))\n",
    "img_list.append(get_image(color=0, shape=2, scale=5, orientation=0, posX=16, posY=31))\n",
    "plot_img_list_23(img_list, 'attribute correlation', 'x', 'x')\n",
    "\n",
    "\n",
    "img_list = []\n",
    "img_list.append(get_image(color=0, shape=2, scale=5, orientation=0, posX=0, posY=16))\n",
    "img_list.append(get_image(color=0, shape=2, scale=5, orientation=10, posX=16, posY=16))\n",
    "img_list.append(get_image(color=0, shape=2, scale=5, orientation=19, posX=31, posY=16))\n",
    "img_list.append(get_image(color=0, shape=1, scale=5, orientation=0, posX=0, posY=16))\n",
    "img_list.append(get_image(color=0, shape=1, scale=5, orientation=10, posX=16, posY=16))\n",
    "img_list.append(get_image(color=0, shape=1, scale=5, orientation=19, posX=31, posY=16))\n",
    "plot_img_list_23(img_list, \"class correlation\", 'x', 'x')\n",
    "\n",
    "\n",
    "img_list = []\n",
    "img_list.append(get_image(color=0, shape=2, scale=5, orientation=0, posX=0, posY=16))\n",
    "img_list.append(get_image(color=0, shape=2, scale=5, orientation=10, posX=16, posY=16))\n",
    "img_list.append(get_image(color=0, shape=2, scale=5, orientation=19, posX=31, posY=16))\n",
    "img_list.append(get_image(color=0, shape=1, scale=5, orientation=0, posX=0, posY=16))\n",
    "img_list.append(get_image(color=0, shape=1, scale=5, orientation=10, posX=16, posY=16))\n",
    "img_list.append(get_image(color=0, shape=1, scale=5, orientation=19, posX=31, posY=16))\n",
    "plot_img_list_23(img_list, \"attribute correlation\", \"x\", \"y\")\n",
    "\n",
    "\n",
    "#img_list = []\n",
    "#img_list.append(get_image(color=0, shape=2, scale=5, orientation=0, posX=0, posY=16))\n",
    "#img_list.append(get_image(color=0, shape=2, scale=5, orientation=0, posX=16, posY=16))\n",
    "#img_list.append(get_image(color=0, shape=2, scale=5, orientation=0, posX=31, posY=16))\n",
    "#img_list.append(get_image(color=0, shape=1, scale=5, orientation=0, posX=0, posY=0))\n",
    "#img_list.append(get_image(color=0, shape=1, scale=5, orientation=0, posX=16, posY=8))\n",
    "#img_list.append(get_image(color=0, shape=1, scale=5, orientation=0, posX=31, posY=31))\n",
    "#plot_img_list_23(img_list, \"non-lin. attribute correlation\", \"x\", \"y\")\n",
    "\n",
    "img_list = []\n",
    "img_list.append(get_image(color=0, shape=2, scale=5, orientation=0, posX=0, posY=16))\n",
    "img_list.append(get_image(color=0, shape=2, scale=5, orientation=0, posX=16, posY=16))\n",
    "img_list.append(get_image(color=0, shape=2, scale=5, orientation=0, posX=31, posY=16))\n",
    "img_list.append(get_image(color=0, shape=1, scale=5, orientation=0, posX=0, posY=16))\n",
    "img_list.append(get_image(color=0, shape=1, scale=5, orientation=0, posX=16, posY=16))\n",
    "img_list.append(get_image(color=0, shape=1, scale=5, orientation=0, posX=16, posY=16))\n",
    "plot_img_list_23(img_list, \"partial obs. in y\", \"x\", \"y\")\n",
    "\n",
    "img_list = []\n",
    "img_list.append(get_image(color=0, shape=2, scale=5, orientation=0, posX=0, posY=16))\n",
    "img_list.append(get_image(color=0, shape=2, scale=5, orientation=0, posX=16, posY=16))\n",
    "img_list.append(get_image(color=0, shape=2, scale=5, orientation=0, posX=0, posY=16))\n",
    "img_list.append(get_image(color=0, shape=1, scale=5, orientation=0, posX=31, posY=16))\n",
    "img_list.append(get_image(color=0, shape=1, scale=5, orientation=0, posX=0, posY=16))\n",
    "img_list.append(get_image(color=0, shape=1, scale=5, orientation=0, posX=0, posY=16))\n",
    "plot_img_list_23(img_list, \"partial obs. in x and y\", \"x\", \"y\")"
   ]
  },
  {
   "cell_type": "code",
   "execution_count": 8,
   "metadata": {},
   "outputs": [],
   "source": [
    "def plot_images():\n",
    "    img_list = []\n",
    "    img_list.append(get_image(color=0, shape=2, scale=5, orientation=0, posX=0, posY=16))\n",
    "    img_list.append(get_image(color=0, shape=2, scale=5, orientation=0, posX=16, posY=16))\n",
    "    img_list.append(get_image(color=0, shape=2, scale=5, orientation=0, posX=31, posY=16))\n",
    "    img_list.append(get_image(color=0, shape=2, scale=5, orientation=0, posX=0, posY=16))\n",
    "    img_list.append(get_image(color=0, shape=2, scale=5, orientation=10, posX=0, posY=16))\n",
    "    img_list.append(get_image(color=0, shape=2, scale=5, orientation=19, posX=0, posY=16))\n",
    "    plot_img_list_y6(img_list, 'no correlation', y=0)\n",
    "\n",
    "    img_list = []\n",
    "    img_list.append(get_image(color=0, shape=2, scale=5, orientation=0, posX=0, posY=16))\n",
    "    img_list.append(get_image(color=0, shape=2, scale=5, orientation=10, posX=16, posY=16))\n",
    "    img_list.append(get_image(color=0, shape=2, scale=5, orientation=19, posX=31, posY=16))\n",
    "    img_list.append(get_image(color=0, shape=2, scale=0, orientation=0, posX=16, posY=0))\n",
    "    img_list.append(get_image(color=0, shape=2, scale=3, orientation=0, posX=16, posY=16))\n",
    "    img_list.append(get_image(color=0, shape=2, scale=5, orientation=0, posX=16, posY=31))\n",
    "    plot_img_list_y6(img_list, 'attribute correlation', y=2)\n",
    "\n",
    "    img_list = []\n",
    "    img_list.append(get_image(color=0, shape=2, scale=5, orientation=0, posX=0, posY=16))\n",
    "    img_list.append(get_image(color=0, shape=2, scale=5, orientation=10, posX=16, posY=16))\n",
    "    img_list.append(get_image(color=0, shape=2, scale=5, orientation=19, posX=31, posY=16))\n",
    "    img_list.append(get_image(color=0, shape=1, scale=5, orientation=0, posX=0, posY=16))\n",
    "    img_list.append(get_image(color=0, shape=1, scale=5, orientation=10, posX=16, posY=16))\n",
    "    img_list.append(get_image(color=0, shape=1, scale=5, orientation=19, posX=31, posY=16))\n",
    "    plot_img_list_y6(img_list, \"class correlation\", y=4)\n",
    "\n",
    "\n",
    "    ############################################################\n",
    "\n",
    "    img_list = []\n",
    "    img_list.append(get_image(color=0, shape=2, scale=5, orientation=0, posX=0, posY=16))\n",
    "    img_list.append(get_image(color=0, shape=2, scale=5, orientation=10, posX=16, posY=16))\n",
    "    img_list.append(get_image(color=0, shape=2, scale=5, orientation=19, posX=31, posY=16))\n",
    "    img_list.append(get_image(color=0, shape=2, scale=5, orientation=0, posX=0, posY=31))\n",
    "    img_list.append(get_image(color=0, shape=2, scale=3, orientation=0, posX=16, posY=16))\n",
    "    img_list.append(get_image(color=0, shape=2, scale=0, orientation=0, posX=31, posY=0))\n",
    "    plot_img_list_y6(img_list, \"attribute correlation\", y=6, ylabel=\"a\")\n",
    "\n",
    "    img_list = []\n",
    "    img_list.append(get_image(color=0, shape=1, scale=5, orientation=0, posX=0, posY=16))\n",
    "    img_list.append(get_image(color=0, shape=1, scale=5, orientation=10, posX=16, posY=16))\n",
    "    img_list.append(get_image(color=0, shape=1, scale=5, orientation=19, posX=31, posY=16))\n",
    "    img_list.append(get_image(color=0, shape=1, scale=5, orientation=0, posX=16, posY=0))\n",
    "    img_list.append(get_image(color=0, shape=1, scale=5, orientation=0, posX=16, posY=16))\n",
    "    img_list.append(get_image(color=0, shape=1, scale=5, orientation=0, posX=16, posY=31))\n",
    "    plot_img_list_y6(img_list, \"\", y=7 , ylabel=\"b\")\n",
    "\n",
    "    ############################################################\n",
    "\n",
    "    img_list = []\n",
    "    img_list.append(get_image(color=0, shape=2, scale=5, orientation=0, posX=0, posY=16))\n",
    "    img_list.append(get_image(color=0, shape=2, scale=5, orientation=0, posX=16, posY=16))\n",
    "    img_list.append(get_image(color=0, shape=2, scale=5, orientation=0, posX=31, posY=16))\n",
    "    img_list.append(get_image(color=0, shape=2, scale=0, orientation=0, posX=0, posY=16))\n",
    "    img_list.append(get_image(color=0, shape=2, scale=3, orientation=0, posX=16, posY=16))\n",
    "    img_list.append(get_image(color=0, shape=2, scale=5, orientation=0, posX=31, posY=16))\n",
    "    plot_img_list_y6(img_list, \"partial obs. in b\", y=9, ylabel=\"a\")\n",
    "\n",
    "    img_list = []\n",
    "    img_list.append(get_image(color=0, shape=1, scale=5, orientation=0, posX=0, posY=16))\n",
    "    img_list.append(get_image(color=0, shape=1, scale=5, orientation=0, posX=16, posY=16))\n",
    "    img_list.append(get_image(color=0, shape=1, scale=5, orientation=0, posX=16, posY=16))\n",
    "    img_list.append(get_image(color=0, shape=1, scale=5, orientation=0, posX=16, posY=31))\n",
    "    img_list.append(get_image(color=0, shape=1, scale=5, orientation=0, posX=16, posY=31))\n",
    "    img_list.append(get_image(color=0, shape=1, scale=5, orientation=0, posX=16, posY=0))\n",
    "    plot_img_list_y6(img_list, \"\", y=10, ylabel=\"b\")\n",
    "\n",
    "    ############################################################\n",
    "\n",
    "    img_list = []\n",
    "    img_list.append(get_image(color=0, shape=2, scale=5, orientation=0, posX=0, posY=16))\n",
    "    img_list.append(get_image(color=0, shape=2, scale=5, orientation=0, posX=16, posY=16))\n",
    "    img_list.append(get_image(color=0, shape=2, scale=5, orientation=0, posX=0, posY=16))\n",
    "    img_list.append(get_image(color=0, shape=2, scale=0, orientation=0, posX=0, posY=16))\n",
    "    img_list.append(get_image(color=0, shape=2, scale=5, orientation=0, posX=16, posY=16))\n",
    "    img_list.append(get_image(color=0, shape=2, scale=0, orientation=0, posX=31, posY=16))\n",
    "    plot_img_list_y6(img_list, \"partial obs. in a and b\", y=12, ylabel=\"a\")\n",
    "\n",
    "    img_list = []\n",
    "    img_list.append(get_image(color=0, shape=1, scale=5, orientation=0, posX=31, posY=16))\n",
    "    img_list.append(get_image(color=0, shape=1, scale=5, orientation=0, posX=0, posY=16))\n",
    "    img_list.append(get_image(color=0, shape=1, scale=5, orientation=0, posX=0, posY=16))\n",
    "    img_list.append(get_image(color=0, shape=1, scale=5, orientation=0, posX=31, posY=16))\n",
    "    img_list.append(get_image(color=0, shape=1, scale=5, orientation=0, posX=0, posY=16))\n",
    "    img_list.append(get_image(color=0, shape=1, scale=5, orientation=0, posX=0, posY=16))\n",
    "    plot_img_list_y6(img_list, \"\", y=13, ylabel=\"b\")\n",
    "\n"
   ]
  },
  {
   "cell_type": "code",
   "execution_count": 19,
   "metadata": {},
   "outputs": [
    {
     "data": {
      "image/png": "[encoded data removed]",
      "text/plain": [
       "<Figure size 885.827x1366.7 with 98 Axes>"
      ]
     },
     "metadata": {},
     "output_type": "display_data"
    }
   ],
   "source": [
    "factor = 1.5\n",
    "\n",
    "paper_width_cm = 15\n",
    "paper_width_inch = paper_width_cm / 2.54\n",
    "dpi = 150\n",
    "fig_w = paper_width_inch         # 7 images\n",
    "fig_h = paper_width_inch * 9 / 7 * 1.2 # 9 images\n",
    "\n",
    "\n",
    "widths = [1, 1, 1, 0.1, 1, 1, 1]\n",
    "sep = .15\n",
    "heights = [1, sep, 1, sep, 1, sep, 1, 1, sep, 1, 1, sep, 1, 1]\n",
    "gs_kw = dict(width_ratios=widths, height_ratios=heights, wspace=0., hspace=.1)\n",
    "\n",
    "_, axs = plt.subplots(14,7,figsize=(fig_w,fig_h), dpi=dpi, sharey=True, sharex=True,  gridspec_kw = gs_kw)\n",
    "def plot_img_list_y6(img_list, title, y = 0, ylabel = \"\"):\n",
    "    # Show images\n",
    "    for img, ax in zip(img_list[:3], axs[y][:3]):\n",
    "        ax.imshow(img, interpolation='nearest', cmap='Greys_r', aspect=\"equal\")\n",
    "        ax.grid(False)\n",
    "        ax.set_xticks([])\n",
    "        ax.set_yticks([])\n",
    "    for img, ax in zip(img_list[3:], axs[y][4:]):\n",
    "        ax.imshow(img, interpolation='nearest', cmap='Greys_r', aspect=\"equal\")\n",
    "        ax.grid(False)\n",
    "        ax.set_xticks([])\n",
    "        ax.set_yticks([])\n",
    "    # Set the title and y label\n",
    "    ax = axs[y][3]\n",
    "    ax.set_aspect('auto')\n",
    "    ax.grid(False)\n",
    "    ax.set_xticks([])\n",
    "    ax.set_yticks([])\n",
    "    ax.axis('off')\n",
    "    ax.set_title(title, fontsize=10, pad=3.5, fontfamily='serif')\n",
    "    h = axs[y][0].set_ylabel(ylabel, fontsize=10, fontfamily='serif', labelpad=8)\n",
    "    h.set_rotation(0)\n",
    "\n",
    "# Remove the lines of the seperators\n",
    "for y in [1, 3, 5, 8, 11]:\n",
    "    for x in range(7):\n",
    "        ax = axs[y][x]\n",
    "        ax.grid(False)\n",
    "        ax.set_xticks([])\n",
    "        ax.set_yticks([])\n",
    "        ax.axis('off')\n",
    "\n",
    "# Write the xlabel for the parameters \n",
    "axs[-1][0].set_xlabel(\"p$_{1,1}$\", fontsize=10)\n",
    "axs[-1][1].set_xlabel(\"p$_{1,2}$\", fontsize=10)\n",
    "axs[-1][2].set_xlabel(\"p$_{1,3}$\", fontsize=10)\n",
    "axs[-1][4].set_xlabel(\"p$_{2,1}$\", fontsize=10)\n",
    "axs[-1][5].set_xlabel(\"p$_{2,2}$\", fontsize=10)\n",
    "axs[-1][6].set_xlabel(\"p$_{2,3}$\", fontsize=10)\n",
    "plot_images()\n",
    "# second exampleis wrt. to the scale of the heart.\n",
    "# The position of the heart is non-ambigues\n",
    "\n",
    "\n",
    "#plt.tight_layout()\n",
    "plt.savefig(\"/opt/repositories/dsprites-dataset/dsprites.pdf\", dpi='figure', transparent=True, papertype='a4', bbox_inches='tight')\n",
    "plt.show()\n"
   ]
  },
  {
   "cell_type": "code",
   "execution_count": 82,
   "metadata": {},
   "outputs": [
    {
     "data": {
      "image/png": "[encoded data removed]",
      "text/plain": [
       "<Figure size 525x75 with 7 Axes>"
      ]
     },
     "metadata": {},
     "output_type": "display_data"
    }
   ],
   "source": [
    "\n",
    "from mpl_toolkits.axes_grid1 import Divider, Size\n",
    "from mpl_toolkits.axes_grid1.mpl_axes import Axes\n",
    "\n",
    "\n",
    "widths = [1, 1, 1, 0.1, 1, 1, 1]\n",
    "heights = [1]\n",
    "gs_kw = dict(width_ratios=widths, height_ratios=heights)\n",
    "\n",
    "factor = 1.5\n",
    "#fig3 = plt.figure(constrained_layout=True, figsize=(factor * 7,factor * 1), dpi=50)\n",
    "f, axs = plt.subplots(1,7,figsize=(factor * 7,factor * 1), dpi=50, sharey=True, sharex=True,  gridspec_kw = gs_kw)\n",
    "def plot_img_list_y6(img_list, title, y = 0, ylabel = \"\"):\n",
    "    # Show images\n",
    "    for img, ax in zip(img_list[:3], axs[:3]):\n",
    "        ax.imshow(img, interpolation='nearest', cmap='Greys_r', aspect=\"equal\")\n",
    "        ax.grid(False)\n",
    "        ax.set_xticks([])\n",
    "        ax.set_yticks([])\n",
    "        #ax.axis('off')\n",
    "    for img, ax in zip(img_list[3:], axs[4:]):\n",
    "        ax.imshow(img, interpolation='nearest', cmap='Greys_r', aspect=\"equal\")\n",
    "        ax.grid(False)\n",
    "        ax.set_xticks([])\n",
    "        ax.set_yticks([])\n",
    "        #ax.axis('off')\n",
    "    ax = axs[3]\n",
    "    #ax.imshow(0 * np.ones((64,64,3), dtype=np.int8), interpolation='nearest', aspect=10.1)\n",
    "    #ax.plot([0, 1, 2])\n",
    "    \n",
    "    #ax.set_aspect('auto', 'datalim')\n",
    "    ax.set_aspect('auto')\n",
    "    \n",
    "    #h = [Size.Fixed(10.0), Size.Fixed(1.0)]\n",
    "    #v = [Size.Fixed(10.0), Size.Fixed(1.0)]\n",
    "    #divider = Divider(ax, (0.0, 0.0, 1., 1.), h, v, aspect=True)\n",
    "    #ax = Axes(f, divider.get_position())\n",
    "    #ax.set_axes_locator(divider.new_locator(nx=1, ny=1))\n",
    "    #ax.set_xlim([-2,2])\n",
    "    #ax.bbox\n",
    "    ax.grid(False)\n",
    "    ax.set_xticks([])\n",
    "    ax.set_yticks([])\n",
    "    ax.axis('off')\n",
    "    #ax.axvline()\n",
    "    #ax.set_aspect('equal')\n",
    "    ax.set_title(title, fontsize=10)\n",
    "    axs[0].set_ylabel(ylabel, fontsize=10)\n",
    "\n",
    "img_list = []\n",
    "img_list.append(get_image(color=0, shape=2, scale=5, orientation=0, posX=0, posY=16))\n",
    "img_list.append(get_image(color=0, shape=2, scale=5, orientation=0, posX=16, posY=16))\n",
    "img_list.append(get_image(color=0, shape=2, scale=5, orientation=0, posX=31, posY=16))\n",
    "img_list.append(get_image(color=0, shape=2, scale=5, orientation=0, posX=0, posY=16))\n",
    "img_list.append(get_image(color=0, shape=2, scale=5, orientation=10, posX=0, posY=16))\n",
    "img_list.append(get_image(color=0, shape=2, scale=5, orientation=19, posX=0, posY=16))\n",
    "plot_img_list_y6(img_list, 'no correlation', y=0)\n",
    "\n",
    "#plt.tight_layout()\n",
    "#plt.savefig(\"test2.svg\", dpi='figure', transparent=True, papertype='a4')\n",
    "plt.show()\n"
   ]
  },
  {
   "cell_type": "code",
   "execution_count": 103,
   "metadata": {},
   "outputs": [
    {
     "data": {
      "image/png": "[encoded data removed]",
      "text/plain": [
       "<Figure size 525x150 with 14 Axes>"
      ]
     },
     "metadata": {},
     "output_type": "display_data"
    }
   ],
   "source": [
    "factor = 1.5\n",
    "\n",
    "widths = [1, 1, 1, 0.1, 1, 1, 1]\n",
    "heights = [1, 1]\n",
    "gs_kw = dict(width_ratios=widths, height_ratios=heights, wspace=0.1, hspace=0.5)\n",
    "\n",
    "_, axs = plt.subplots(2,7,figsize=(factor * 7,factor * 2), dpi=50, sharey=True, sharex=True,\n",
    "                      gridspec_kw = gs_kw)\n",
    "def plot_img_list_y6(img_list, title, y = 0, ylabel = \"\"):\n",
    "    # Show images\n",
    "    for img, ax in zip(img_list[:3], axs[y][:3]):\n",
    "        ax.imshow(img, interpolation='nearest', cmap='Greys_r', aspect=\"equal\")\n",
    "        ax.grid(False)\n",
    "        ax.set_xticks([])\n",
    "        ax.set_yticks([])\n",
    "        #ax.axis('off')\n",
    "    for img, ax in zip(img_list[3:], axs[y][4:]):\n",
    "        ax.imshow(img, interpolation='nearest', cmap='Greys_r', aspect=\"equal\")\n",
    "        ax.grid(False)\n",
    "        ax.set_xticks([])\n",
    "        ax.set_yticks([])\n",
    "        #ax.axis('off')\n",
    "    ax = axs[y][3]\n",
    "    #ax.imshow(255 * np.ones((64,64,3), dtype=np.int8), interpolation='nearest', aspect=\"equal\")\n",
    "    ax.set_aspect('auto')\n",
    "    ax.grid(False)\n",
    "    ax.set_xticks([])\n",
    "    ax.set_yticks([])\n",
    "    ax.axis('off')\n",
    "    #ax.set_aspect('equal')\n",
    "    ax.set_title(title, fontsize=10)\n",
    "    axs[y][0].set_ylabel(ylabel, fontsize=10)\n",
    "\n",
    "img_list = []\n",
    "img_list.append(get_image(color=0, shape=2, scale=5, orientation=0, posX=0, posY=16))\n",
    "img_list.append(get_image(color=0, shape=2, scale=5, orientation=0, posX=16, posY=16))\n",
    "img_list.append(get_image(color=0, shape=2, scale=5, orientation=0, posX=31, posY=16))\n",
    "img_list.append(get_image(color=0, shape=2, scale=5, orientation=0, posX=0, posY=16))\n",
    "img_list.append(get_image(color=0, shape=2, scale=5, orientation=10, posX=0, posY=16))\n",
    "img_list.append(get_image(color=0, shape=2, scale=5, orientation=19, posX=0, posY=16))\n",
    "plot_img_list_y6(img_list, 'no correlation', y=0)\n",
    "\n",
    "img_list = []\n",
    "img_list.append(get_image(color=0, shape=2, scale=5, orientation=0, posX=0, posY=16))\n",
    "img_list.append(get_image(color=0, shape=2, scale=5, orientation=10, posX=16, posY=16))\n",
    "img_list.append(get_image(color=0, shape=2, scale=5, orientation=19, posX=31, posY=16))\n",
    "img_list.append(get_image(color=0, shape=2, scale=0, orientation=0, posX=16, posY=0))\n",
    "img_list.append(get_image(color=0, shape=2, scale=3, orientation=0, posX=16, posY=16))\n",
    "img_list.append(get_image(color=0, shape=2, scale=5, orientation=0, posX=16, posY=31))\n",
    "plot_img_list_y6(img_list, 'attribute correlation', y=1)\n"
   ]
  },
  {
   "cell_type": "code",
   "execution_count": 233,
   "metadata": {
    "colab": {
     "autoexec": {
      "startup": false,
      "wait_interval": 0
     },
     "output_extras": [
      {
       "item_id": 1
      }
     ]
    },
    "colab_type": "code",
    "executionInfo": {
     "elapsed": 125,
     "status": "ok",
     "timestamp": 1495021398201,
     "user": {
      "displayName": "",
      "photoUrl": "",
      "userId": ""
     },
     "user_tz": -60
    },
    "id": "IygFe_LtLoUg",
    "outputId": "8ce35c72-f502-4f8f-d0c6-71ae645662c4"
   },
   "outputs": [
    {
     "data": {
      "image/png": "[encoded data removed]",
      "text/plain": [
       "<Figure size 432x288 with 1 Axes>"
      ]
     },
     "metadata": {},
     "output_type": "display_data"
    }
   ],
   "source": [
    "# Compute the density of the data to show that no pixel ever goes out of\n",
    "# the boundary. Obviously it also means that the main support of the pixels is in the center\n",
    "# half. \n",
    "# Locations cover a square, which make the aligned X-Y latents more likely for\n",
    "# models to discover.\n",
    "\n",
    "show_density(imgs_sampled)"
   ]
  },
  {
   "cell_type": "markdown",
   "metadata": {
    "colab_type": "text",
    "id": "peJaYLHyLKDu"
   },
   "source": [
    "## Conditional sampling of the dataset"
   ]
  },
  {
   "cell_type": "code",
   "execution_count": 118,
   "metadata": {
    "colab": {
     "autoexec": {
      "startup": false,
      "wait_interval": 0
     }
    },
    "colab_type": "code",
    "id": "-FCACtAlqKTA"
   },
   "outputs": [
    {
     "data": {
      "image/png": "[encoded data removed]",
      "text/plain": [
       "<Figure size 432x288 with 3 Axes>"
      ]
     },
     "metadata": {},
     "output_type": "display_data"
    }
   ],
   "source": [
    "fig9 = plt.figure(constrained_layout=False)\n",
    "gs1 = fig9.add_gridspec(nrows=3, ncols=3, left=0.05, right=0.48,\n",
    "                        wspace=0.05)\n",
    "f9_ax1 = fig9.add_subplot(gs1[:-1, :])\n",
    "f9_ax2 = fig9.add_subplot(gs1[-1, :-1])\n",
    "f9_ax3 = fig9.add_subplot(gs1[-1, -1])\n",
    "\n",
    "#gs2 = fig9.add_gridspec(nrows=3, ncols=3, left=0.55, right=0.98,\n",
    "#                        hspace=0.05)\n",
    "#f9_ax4 = fig9.add_subplot(gs2[:, :-1])\n",
    "#f9_ax5 = fig9.add_subplot(gs2[:-1, -1])\n",
    "#f9_ax6 = fig9.add_subplot(gs2[-1, -1])"
   ]
  },
  {
   "cell_type": "code",
   "execution_count": 142,
   "metadata": {},
   "outputs": [
    {
     "data": {
      "image/png": "[encoded data removed]",
      "text/plain": [
       "<Figure size 885.827x1138.92 with 10 Axes>"
      ]
     },
     "metadata": {},
     "output_type": "display_data"
    }
   ],
   "source": [
    "factor = 1.5\n",
    "\n",
    "im_hight = \n",
    "sep_1 = \n",
    "\n",
    "paper_width_cm = 15\n",
    "paper_width_inch = paper_width_cm / 2.54\n",
    "dpi = 150\n",
    "fig_w = paper_width_inch         # 7 images\n",
    "fig_h = paper_width_inch * 9 / 7 # 9 images\n",
    "\n",
    "\n",
    "#widths = [1, 1, 1, 0.1, 1, 1, 1]\n",
    "#heights = [1, 1, 1, 1, 1, 1, 1, 1, 1]\n",
    "#gs_kw = dict(width_ratios=widths, height_ratios=heights, wspace=1.5, hspace=0.1)\n",
    "\n",
    "#_, axs = plt.subplots(9,7,figsize=(fig_w,fig_h), dpi=dpi, sharey=True, sharex=True,  gridspec_kw = gs_kw)\n",
    "\n",
    "#width_ratios = [1, 1, 1, 0.1, 1, 1, 1] / np.sum([1, 1, 1, 0.1, 1, 1, 1])\n",
    "#print(width_ratios)\n",
    "width_ratios = [1, 1, 1, 0.1, 1, 1, 1] \n",
    "img = get_image(color=0, shape=2, scale=5, orientation=0, posX=0, posY=16)\n",
    "fig9 = plt.figure(constrained_layout=False, figsize=(fig_w,fig_h), dpi=dpi)\n",
    "gs1 = fig9.add_gridspec(nrows=1, ncols=7, left=0.0, right=1., bottom=.70, top=.98,\n",
    "                        wspace=0.05, width_ratios = width_ratios)\n",
    "ax = fig9.add_subplot(gs1[0, 0])\n",
    "ax.imshow(img)\n",
    "ax = fig9.add_subplot(gs1[0, 1])\n",
    "ax.imshow(img)\n",
    "ax = fig9.add_subplot(gs1[0, 2])\n",
    "ax.imshow(img)\n",
    "ax = fig9.add_subplot(gs1[0, 3])\n",
    "ax.imshow(img)\n",
    "#ax.imshow(img)\n",
    "ax.set_title(\"asd\")\n",
    "ax = fig9.add_subplot(gs1[0, 4])\n",
    "ax.imshow(img)\n",
    "ax = fig9.add_subplot(gs1[0, 5])\n",
    "ax.imshow(img)\n",
    "ax = fig9.add_subplot(gs1[0, 6])\n",
    "ax.imshow(img)\n",
    "\n",
    "gs1 = fig9.add_gridspec(nrows=1, ncols=7, left=0.0, right=1., bottom=0.05, top=0.48,\n",
    "                        wspace=0.05)\n",
    "f9_ax1 = fig9.add_subplot(gs1[0, 0])\n",
    "f9_ax2 = fig9.add_subplot(gs1[0, 1])\n",
    "f9_ax3 = fig9.add_subplot(gs1[0, 2])\n",
    "\n",
    "#gs2 = fig9.add_gridspec(nrows=3, ncols=3, left=0.55, right=0.98,\n",
    "#                        hspace=0.05)\n",
    "#f9_ax4 = fig9.add_subplot(gs2[:, :-1])\n",
    "#f9_ax5 = fig9.add_subplot(gs2[:-1, -1])\n",
    "#f9_ax6 = fig9.add_subplot(gs2[-1, -1])"
   ]
  }
 ],
 "metadata": {
  "colab": {
   "default_view": {},
   "last_runtime": {
    "build_target": "",
    "kind": "local"
   },
   "name": "deepmind_2d_shapes_dataset_public.ipynb",
   "provenance": [
    {
     "file_id": "/piper/depot/google3/experimental/deepmind/concepts/dataset2dshapes/public/deepmind_2d_shapes_dataset.ipynb?workspaceId=lmatthey:lmatthey-2dshapes-dataset:580:citc",
     "timestamp": 1493149332589
    },
    {
     "file_id": "0BxLiVtkN33-wbmVnbVQwcUhjY0U",
     "timestamp": 1493149291483
    }
   ],
   "version": "0.3.2",
   "views": {}
  },
  "kernelspec": {
   "display_name": "Python 3",
   "language": "python",
   "name": "python3"
  },
  "language_info": {
   "codemirror_mode": {
    "name": "ipython",
    "version": 3
   },
   "file_extension": ".py",
   "mimetype": "text/x-python",
   "name": "python",
   "nbconvert_exporter": "python",
   "pygments_lexer": "ipython3",
   "version": "3.5.2"
  }
 },
 "nbformat": 4,
 "nbformat_minor": 1
}
